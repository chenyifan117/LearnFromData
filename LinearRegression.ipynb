{
 "cells": [
  {
   "cell_type": "markdown",
   "id": "5ac50f49",
   "metadata": {},
   "source": [
    "# Create a linear regression model"
   ]
  },
  {
   "cell_type": "markdown",
   "id": "8915c831",
   "metadata": {},
   "source": [
    "- build a dataset class\n",
    "- build a model class: init / fit / predict\n",
    "- new function: np.nonzero / np.random.choice / np.arange / np.random.shuffle\n",
    "- np.random.rand vs np.random.randn vs np.random.uniform"
   ]
  },
  {
   "cell_type": "code",
   "execution_count": 1,
   "id": "c562fd35",
   "metadata": {},
   "outputs": [],
   "source": [
    "import numpy as np"
   ]
  },
  {
   "cell_type": "code",
   "execution_count": 2,
   "id": "e2f3df3b",
   "metadata": {},
   "outputs": [],
   "source": [
    "class Dataset:\n",
    "    def __init__(self, N):\n",
    "        self.N = N\n",
    "        self.X = np.random.rand(N, 2+1) * 2 - 1\n",
    "        self.X[:, 2] = 1\n",
    "        \n",
    "        ps = np.random.rand(2, 2) * 2 - 1\n",
    "        slope = (ps[1,1]-ps[0,1])/(ps[1,0]-ps[0,0])\n",
    "        intercept = ps[0,1]-slope*ps[0,0]\n",
    "        self.y = 2 * (self.X[:,1] > slope * self.X[:,0]\\\n",
    "                      + intercept) - 1        "
   ]
  },
  {
   "cell_type": "code",
   "execution_count": 76,
   "id": "26305d59",
   "metadata": {},
   "outputs": [],
   "source": [
    "class LinearRegression():\n",
    "    def __init__(self):\n",
    "        self.w = 0\n",
    "    \n",
    "    def fit(self, X, Y):\n",
    "        self.w = np.linalg.solve(X.T@X, X.T@Y)\n",
    "    \n",
    "    def predict(self, X):\n",
    "        return np.sign(X@self.w)\n",
    "    \n",
    "    def get_weights():\n",
    "        return self.w"
   ]
  },
  {
   "cell_type": "code",
   "execution_count": 4,
   "id": "4558e3ad",
   "metadata": {},
   "outputs": [
    {
     "data": {
      "text/plain": [
       "0.03817000000000009"
      ]
     },
     "execution_count": 4,
     "metadata": {},
     "output_type": "execute_result"
    }
   ],
   "source": [
    "total_Ein = 0\n",
    "\n",
    "for i in range(1000):\n",
    "    ds = Dataset(100)\n",
    "    lr = LinearRegression()\n",
    "    lr.fit(ds.X, ds.y)\n",
    "    total_Ein += np.sum(lr.predict(ds.X) != ds.y) / ds.N\n",
    "\n",
    "total_Ein / 1000"
   ]
  },
  {
   "cell_type": "markdown",
   "id": "a711fc39",
   "metadata": {},
   "source": [
    "# Create a percepton model"
   ]
  },
  {
   "cell_type": "code",
   "execution_count": 5,
   "id": "78eb9f7e",
   "metadata": {},
   "outputs": [],
   "source": [
    "class PLA:\n",
    "    def __init__(self):\n",
    "        self.w = 0\n",
    "    \n",
    "    def fit(self, X, y, initial_w = None):\n",
    "        self.w = np.zeros((X.shape[1], 1))\n",
    "        if initial_w is not None:\n",
    "            self.w = initial_w\n",
    "        self.iters = 0\n",
    "        \n",
    "        while True:\n",
    "            yhat = np.sign(X @ self.w)\n",
    "            misclassified = np.nonzero(y != yhat)[0]\n",
    "            \n",
    "            if len(misclassified) == 0:\n",
    "                return\n",
    "            \n",
    "            self.iters += 1\n",
    "            if self.iters > 1000:\n",
    "                print('PLA cannot converge.')\n",
    "                return\n",
    "            \n",
    "            i = np.random.choice(misclassified)\n",
    "            self.w = self.w + y[i]*X[i,:]"
   ]
  },
  {
   "cell_type": "code",
   "execution_count": 6,
   "id": "70b11f6f",
   "metadata": {},
   "outputs": [
    {
     "data": {
      "text/plain": [
       "4.273"
      ]
     },
     "execution_count": 6,
     "metadata": {},
     "output_type": "execute_result"
    }
   ],
   "source": [
    "total_iters = 0\n",
    "\n",
    "for i in range(1000):\n",
    "    \n",
    "    ds = Dataset(10)\n",
    "    lr = LinearRegression()\n",
    "    lr.fit(ds.X, ds.y)\n",
    "\n",
    "    pla = PLA()\n",
    "    pla.fit(ds.X, ds.y, initial_w=lr.w)\n",
    "    total_iters += pla.iters\n",
    "\n",
    "total_iters / 1000"
   ]
  },
  {
   "cell_type": "markdown",
   "id": "1550ab79",
   "metadata": {},
   "source": [
    "# Non-linear transformation"
   ]
  },
  {
   "cell_type": "code",
   "execution_count": 67,
   "id": "f8420919",
   "metadata": {},
   "outputs": [],
   "source": [
    "class Dataset_non_linear:\n",
    "    def __init__(self, N):\n",
    "        self.X = np.random.uniform(-1, 1, (N, 3))\n",
    "        self.X[:, 2] = 1\n",
    "        self.y = np.sign(self.X[:, 0]**2 + self.X[:, 1]**2 - 0.6)\n",
    "        i_flip = np.arange(N)\n",
    "        np.random.shuffle(i_flip)\n",
    "        i_flip = i_flip[:(N//10)]\n",
    "        self.y[i_flip] *= -1"
   ]
  },
  {
   "cell_type": "code",
   "execution_count": 69,
   "id": "99856fad",
   "metadata": {},
   "outputs": [
    {
     "data": {
      "text/plain": [
       "0.44049000000000005"
      ]
     },
     "execution_count": 69,
     "metadata": {},
     "output_type": "execute_result"
    }
   ],
   "source": [
    "total_Ein = 0\n",
    "for i in range(1000):\n",
    "    ds = Dataset_non_linear(100)\n",
    "    lr = LinearRegression()\n",
    "    lr.fit(ds.X, ds.y)\n",
    "    yhat = lr.predict(ds.X)\n",
    "    \n",
    "    total_Ein += np.mean(yhat != ds.y)\n",
    "    \n",
    "total_Ein / 1000"
   ]
  },
  {
   "cell_type": "code",
   "execution_count": 74,
   "id": "8b8b4689",
   "metadata": {},
   "outputs": [],
   "source": [
    "def transform(X):\n",
    "    X_t = np.zeros((len(X), 6))\n",
    "    X_t[:, 0] = 1\n",
    "    X_t[:, 1] = X[:, 0]\n",
    "    X_t[:, 2] = X[:, 1]\n",
    "    X_t[:, 3] = X[:, 0] * X[:, 1]\n",
    "    X_t[:, 4] = X[:, 0]**2\n",
    "    X_t[:, 5] = X[:, 1]**2\n",
    "    return X_t"
   ]
  },
  {
   "cell_type": "code",
   "execution_count": 81,
   "id": "4097eee9",
   "metadata": {},
   "outputs": [
    {
     "data": {
      "text/plain": [
       "array([-0.89785694,  0.02661686, -0.03747541,  0.02564458,  1.49713671,\n",
       "        1.3593845 ])"
      ]
     },
     "execution_count": 81,
     "metadata": {},
     "output_type": "execute_result"
    }
   ],
   "source": [
    "total_weights = 0\n",
    "ds = Dataset_non_linear(1000)\n",
    "ds.X = transform(ds.X)\n",
    "lr = LinearRegression()\n",
    "lr.fit(ds.X, ds.y)\n",
    "    \n",
    "total_weights += lr.w\n",
    "    \n",
    "total_weights"
   ]
  }
 ],
 "metadata": {
  "kernelspec": {
   "display_name": "Python 3 (ipykernel)",
   "language": "python",
   "name": "python3"
  },
  "language_info": {
   "codemirror_mode": {
    "name": "ipython",
    "version": 3
   },
   "file_extension": ".py",
   "mimetype": "text/x-python",
   "name": "python",
   "nbconvert_exporter": "python",
   "pygments_lexer": "ipython3",
   "version": "3.9.13"
  }
 },
 "nbformat": 4,
 "nbformat_minor": 5
}
